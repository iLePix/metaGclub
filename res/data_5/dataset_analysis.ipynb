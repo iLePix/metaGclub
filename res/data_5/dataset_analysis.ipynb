{
 "cells": [
  {
   "cell_type": "code",
   "execution_count": 55,
   "metadata": {},
   "outputs": [
    {
     "name": "stdout",
     "output_type": "stream",
     "text": [
      "Current Directory: c:\\Users\\abfal\\GitHub\\metaGclub\\res\\data_5\n",
      "Current Directory: c:\\Users\\abfal\\GitHub\\metaGclub\\res\\data_5\\41467_2024_51651_MOESM5_ESM.xlsx\n"
     ]
    }
   ],
   "source": [
    "import pandas as pd\n",
    "import os\n",
    "from functools import reduce\n",
    "import numpy as np\n",
    "\n",
    "current_dir = os.getcwd()\n",
    "print(f\"Current Directory: {current_dir}\")\n",
    "\n",
    "path = os.path.join(current_dir, '41467_2024_51651_MOESM5_ESM.xlsx')\n",
    "print(f\"Current Directory: {path}\")\n",
    "\n",
    "# Read all sheets\n",
    "df = pd.read_excel(path, sheet_name=None)['SData2']"
   ]
  },
  {
   "cell_type": "code",
   "execution_count": 56,
   "metadata": {},
   "outputs": [
    {
     "data": {
      "text/plain": [
       "<bound method NDFrame.head of      Supplementary Data 2. Stool shotgun metagenome samples (n = 8069) from 54 independently published studies ranging across healthy and 11 non-healthy phenotypes.  \\\n",
       "0                 Author's last name (Publication year)                                                                                                                \n",
       "1                                                   NaN                                                                                                                \n",
       "2                                Ananthakrishnan (2017)                                                                                                                \n",
       "3                                Ananthakrishnan (2017)                                                                                                                \n",
       "4                                Ananthakrishnan (2017)                                                                                                                \n",
       "...                                                 ...                                                                                                                \n",
       "8066                                         Zhu (2021)                                                                                                                \n",
       "8067                                         Zhu (2021)                                                                                                                \n",
       "8068                                         Zhu (2021)                                                                                                                \n",
       "8069                                         Zhu (2021)                                                                                                                \n",
       "8070                                         Zhu (2021)                                                                                                                \n",
       "\n",
       "        Unnamed: 1        Unnamed: 2   Unnamed: 3            Unnamed: 4  \\\n",
       "0     BioProjectID  Sample accession        RunID   Sequencing platform   \n",
       "1              NaN               NaN          NaN                   NaN   \n",
       "2      PRJNA384246      SAMN06831081   SRR8956622  Illumina NextSeq 500   \n",
       "3      PRJNA384246      SAMN06831086   SRR8956603  Illumina NextSeq 500   \n",
       "4      PRJNA384246      SAMN06831095   SRR8956657  Illumina NextSeq 500   \n",
       "...            ...               ...          ...                   ...   \n",
       "8066   PRJNA638405      SAMN15195571  SRR12005686   Illumina HiSeq 4000   \n",
       "8067   PRJNA638405      SAMN15195572  SRR12005684   Illumina HiSeq 4000   \n",
       "8068   PRJNA638405      SAMN15195573  SRR12005683   Illumina HiSeq 4000   \n",
       "8069   PRJNA638405      SAMN15195574  SRR12005682   Illumina HiSeq 4000   \n",
       "8070   PRJNA638405      SAMN15195575  SRR12005681   Illumina HiSeq 4000   \n",
       "\n",
       "         Unnamed: 5   Unnamed: 6 Unnamed: 7   Unnamed: 8          Unnamed: 9  \\\n",
       "0     Sample origin  Age (Years)        Sex  BMI (kg/m²)           Phenotype   \n",
       "1               NaN          NaN        NaN          NaN                 NaN   \n",
       "2             Stool           26     Female            –  Ulcerative colitis   \n",
       "3             Stool           54     Female            –  Ulcerative colitis   \n",
       "4             Stool           65       Male            –  Ulcerative colitis   \n",
       "...             ...          ...        ...          ...                 ...   \n",
       "8066          Stool           45     Female        25.52     Grave's disease   \n",
       "8067          Stool           57       Male        19.55     Grave's disease   \n",
       "8068          Stool           42       Male        21.85     Grave's disease   \n",
       "8069          Stool           50       Male        26.15     Grave's disease   \n",
       "8070          Stool           52     Female        18.05     Grave's disease   \n",
       "\n",
       "                                         Unnamed: 10          Unnamed: 11  \n",
       "0     Subject health status (Healthy or Non-healthy)  Geography (Country)  \n",
       "1                                                NaN                  NaN  \n",
       "2                                        Non-healthy                  USA  \n",
       "3                                        Non-healthy                  USA  \n",
       "4                                        Non-healthy                  USA  \n",
       "...                                              ...                  ...  \n",
       "8066                                     Non-healthy                China  \n",
       "8067                                     Non-healthy                China  \n",
       "8068                                     Non-healthy                China  \n",
       "8069                                     Non-healthy                China  \n",
       "8070                                     Non-healthy                China  \n",
       "\n",
       "[8071 rows x 12 columns]>"
      ]
     },
     "execution_count": 56,
     "metadata": {},
     "output_type": "execute_result"
    }
   ],
   "source": [
    "df.head"
   ]
  },
  {
   "cell_type": "code",
   "execution_count": 61,
   "metadata": {},
   "outputs": [],
   "source": [
    "df.columns = df.iloc[0]\n",
    "df = df.drop(index=[0, 1]).reset_index(drop=True)"
   ]
  },
  {
   "cell_type": "code",
   "execution_count": 62,
   "metadata": {},
   "outputs": [
    {
     "data": {
      "text/plain": [
       "Index(['Author's last name (Publication year)', 'BioProjectID',\n",
       "       'Sample accession', 'RunID', 'Sequencing platform', 'Sample origin',\n",
       "       'Age (Years)', 'Sex', 'BMI (kg/m²)', 'Phenotype',\n",
       "       'Subject health status (Healthy or Non-healthy)',\n",
       "       'Geography (Country)'],\n",
       "      dtype='object', name=0)"
      ]
     },
     "execution_count": 62,
     "metadata": {},
     "output_type": "execute_result"
    }
   ],
   "source": [
    "df.columns"
   ]
  },
  {
   "cell_type": "code",
   "execution_count": 64,
   "metadata": {},
   "outputs": [
    {
     "data": {
      "text/plain": [
       "array(['Ulcerative colitis', \"Crohn's disease\", 'Healthy',\n",
       "       'Type 2 diabetes', 'Colorectal cancer', 'Rheumatoid Arthritis',\n",
       "       'Atherosclerotic cardiovascular disease', 'ulcerative colitis',\n",
       "       'Nonalcoholic fatty liver disease', 'Liver Cirrhosis',\n",
       "       'Multiple sclerosis', 'Ankylosing spondylitis',\n",
       "       'Rheumatoid arthritis', \"Grave's disease\"], dtype=object)"
      ]
     },
     "execution_count": 64,
     "metadata": {},
     "output_type": "execute_result"
    }
   ],
   "source": [
    "df['Phenotype'].unique()"
   ]
  },
  {
   "cell_type": "markdown",
   "metadata": {},
   "source": [
    "**Thoughts:**\n",
    "\n",
    "MS (multiple sclerosis) can be considered a neurodegenerative disease, the other diseases we could use as control samples to get a wider variety of different samples\n"
   ]
  },
  {
   "cell_type": "markdown",
   "metadata": {},
   "source": []
  }
 ],
 "metadata": {
  "kernelspec": {
   "display_name": "base",
   "language": "python",
   "name": "python3"
  },
  "language_info": {
   "codemirror_mode": {
    "name": "ipython",
    "version": 3
   },
   "file_extension": ".py",
   "mimetype": "text/x-python",
   "name": "python",
   "nbconvert_exporter": "python",
   "pygments_lexer": "ipython3",
   "version": "3.12.3"
  }
 },
 "nbformat": 4,
 "nbformat_minor": 2
}
